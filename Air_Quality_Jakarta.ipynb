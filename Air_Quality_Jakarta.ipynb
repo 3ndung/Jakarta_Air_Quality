{
  "nbformat": 4,
  "nbformat_minor": 0,
  "metadata": {
    "colab": {
      "name": "Air_Quality_Jakarta.ipynb",
      "version": "0.3.2",
      "provenance": [],
      "collapsed_sections": []
    },
    "kernelspec": {
      "name": "python3",
      "display_name": "Python 3"
    }
  },
  "cells": [
    {
      "cell_type": "code",
      "metadata": {
        "id": "WjtJC3DrulYR",
        "colab_type": "code",
        "outputId": "3aa492a3-1ada-46ac-ddc7-4250ff5abad7",
        "colab": {
          "base_uri": "https://localhost:8080/",
          "height": 390
        }
      },
      "source": [
        "import pandas as pd\n",
        "from bs4 import BeautifulSoup as bs\n",
        "\n",
        "import urllib.request as uri\n",
        "\n",
        "import ssl\n",
        "\n",
        "import folium\n",
        "\n",
        "context = ssl._create_unverified_context()\n",
        "\n",
        "\n",
        "ur2 = 'https://website-api.airvisual.com/v1/places/map?bbox=106.3936123144531,-6.493973274280337,107.19286768554684,-5.979308421415107&units.temperature=celsius&units.distance=kilometer&AQI=US&language=en'\n",
        "urly = uri.urlopen(ur2, context=context)\n",
        "data = (urly.read())\n",
        "\n",
        "data2 = str(data)\n",
        "data2 = data2.split('[')[1].split(']')[0]\n",
        "data2 = data2.replace('{name','').replace('name','').replace('id','').replace('aqi','').replace('type','').replace('coordinates','').replace('latitude','').replace('longitude','').replace('\"','').replace(':','').replace('{','').replace('}}',':')\n",
        "\n",
        "endung = []\n",
        "data4 = []\n",
        "\n",
        "data3 = data2.split(':,')\n",
        "for i in range(len(data3)):\n",
        "  #print(data3[i])\n",
        "  endung.append(data3[i])\n",
        "  data4.append(data3[i].split(','))\n",
        "  \n",
        "  \n",
        "ADATA = pd.DataFrame(data4,columns=['Name','Id','AQI','Type','Latitude','Longitude'])\n",
        "ADATA = ADATA[['Name','AQI','Latitude','Longitude']]\n",
        "ADATA  \n",
        "\n",
        "ADATA['Longitude'] = ADATA['Longitude'].replace(':','',regex=True)\n",
        "\n",
        "ADATA['AQI'] = ADATA['AQI'].astype(int)\n",
        "ADATA['Longitude'] = ADATA['Longitude'].astype(float)\n",
        "ADATA['Latitude'] = ADATA['Latitude'].astype(float)\n",
        "\n",
        "\n",
        "ADATA.loc[(ADATA.AQI >=0) & (ADATA.AQI <=50), 'Health Condition'] = 'Health'\n",
        "ADATA.loc[(ADATA.AQI >=51) & (ADATA.AQI <=100), 'Health Condition'] = 'Moderate'\n",
        "ADATA.loc[(ADATA.AQI >=101) & (ADATA.AQI <=150), 'Health Condition'] = 'Unhealthy for Sensitive Groups'\n",
        "ADATA.loc[(ADATA.AQI >=151) & (ADATA.AQI <=200), 'Health Condition'] = 'Unhealthy'\n",
        "ADATA.loc[(ADATA.AQI >=201) & (ADATA.AQI <=300), 'Health Condition'] = 'Very Unhealthy'\n",
        "ADATA.loc[(ADATA.AQI >=301) & (ADATA.AQI >=500), 'Health Condition'] = 'Hazardous'\n",
        "\n",
        "\n",
        "\n",
        "ADATA\n",
        "# or you can Print(ADATA)\n"
      ],
      "execution_count": 4,
      "outputs": [
        {
          "output_type": "execute_result",
          "data": {
            "text/html": [
              "<div>\n",
              "<style scoped>\n",
              "    .dataframe tbody tr th:only-of-type {\n",
              "        vertical-align: middle;\n",
              "    }\n",
              "\n",
              "    .dataframe tbody tr th {\n",
              "        vertical-align: top;\n",
              "    }\n",
              "\n",
              "    .dataframe thead th {\n",
              "        text-align: right;\n",
              "    }\n",
              "</style>\n",
              "<table border=\"1\" class=\"dataframe\">\n",
              "  <thead>\n",
              "    <tr style=\"text-align: right;\">\n",
              "      <th></th>\n",
              "      <th>Name</th>\n",
              "      <th>AQI</th>\n",
              "      <th>Latitude</th>\n",
              "      <th>Longitude</th>\n",
              "      <th>Health Condition</th>\n",
              "    </tr>\n",
              "  </thead>\n",
              "  <tbody>\n",
              "    <tr>\n",
              "      <th>0</th>\n",
              "      <td>US Embassy in Central Jakarta</td>\n",
              "      <td>124</td>\n",
              "      <td>-6.182536</td>\n",
              "      <td>106.834236</td>\n",
              "      <td>Unhealthy for Sensitive Groups</td>\n",
              "    </tr>\n",
              "    <tr>\n",
              "      <th>1</th>\n",
              "      <td>US Embassy in South Jakarta</td>\n",
              "      <td>146</td>\n",
              "      <td>-6.236704</td>\n",
              "      <td>106.793240</td>\n",
              "      <td>Unhealthy for Sensitive Groups</td>\n",
              "    </tr>\n",
              "    <tr>\n",
              "      <th>2</th>\n",
              "      <td>AHP - Capital Place</td>\n",
              "      <td>160</td>\n",
              "      <td>-6.231898</td>\n",
              "      <td>106.819971</td>\n",
              "      <td>Unhealthy</td>\n",
              "    </tr>\n",
              "    <tr>\n",
              "      <th>3</th>\n",
              "      <td>Rawamangun</td>\n",
              "      <td>156</td>\n",
              "      <td>-6.197604</td>\n",
              "      <td>106.896618</td>\n",
              "      <td>Unhealthy</td>\n",
              "    </tr>\n",
              "    <tr>\n",
              "      <th>4</th>\n",
              "      <td>Griya Loka BSD</td>\n",
              "      <td>208</td>\n",
              "      <td>-6.296000</td>\n",
              "      <td>106.679000</td>\n",
              "      <td>Very Unhealthy</td>\n",
              "    </tr>\n",
              "    <tr>\n",
              "      <th>5</th>\n",
              "      <td>Greencove BSD</td>\n",
              "      <td>194</td>\n",
              "      <td>-6.303385</td>\n",
              "      <td>106.658300</td>\n",
              "      <td>Unhealthy</td>\n",
              "    </tr>\n",
              "    <tr>\n",
              "      <th>6</th>\n",
              "      <td>KLHK-GBK Jakarta</td>\n",
              "      <td>91</td>\n",
              "      <td>-6.214311</td>\n",
              "      <td>106.803692</td>\n",
              "      <td>Moderate</td>\n",
              "    </tr>\n",
              "    <tr>\n",
              "      <th>7</th>\n",
              "      <td>Pegadungan</td>\n",
              "      <td>160</td>\n",
              "      <td>-6.140504</td>\n",
              "      <td>106.707553</td>\n",
              "      <td>Unhealthy</td>\n",
              "    </tr>\n",
              "    <tr>\n",
              "      <th>8</th>\n",
              "      <td>Kemayoran</td>\n",
              "      <td>61</td>\n",
              "      <td>-6.164247</td>\n",
              "      <td>106.845863</td>\n",
              "      <td>Moderate</td>\n",
              "    </tr>\n",
              "    <tr>\n",
              "      <th>9</th>\n",
              "      <td>Pejaten Barat</td>\n",
              "      <td>151</td>\n",
              "      <td>-6.274714</td>\n",
              "      <td>106.823053</td>\n",
              "      <td>Unhealthy</td>\n",
              "    </tr>\n",
              "    <tr>\n",
              "      <th>10</th>\n",
              "      <td>South Mangga Dua</td>\n",
              "      <td>106</td>\n",
              "      <td>-6.142772</td>\n",
              "      <td>106.828364</td>\n",
              "      <td>Unhealthy for Sensitive Groups</td>\n",
              "    </tr>\n",
              "  </tbody>\n",
              "</table>\n",
              "</div>"
            ],
            "text/plain": [
              "                             Name  ...                Health Condition\n",
              "0   US Embassy in Central Jakarta  ...  Unhealthy for Sensitive Groups\n",
              "1     US Embassy in South Jakarta  ...  Unhealthy for Sensitive Groups\n",
              "2             AHP - Capital Place  ...                       Unhealthy\n",
              "3                      Rawamangun  ...                       Unhealthy\n",
              "4                  Griya Loka BSD  ...                  Very Unhealthy\n",
              "5                   Greencove BSD  ...                       Unhealthy\n",
              "6                KLHK-GBK Jakarta  ...                        Moderate\n",
              "7                      Pegadungan  ...                       Unhealthy\n",
              "8                       Kemayoran  ...                        Moderate\n",
              "9                   Pejaten Barat  ...                       Unhealthy\n",
              "10               South Mangga Dua  ...  Unhealthy for Sensitive Groups\n",
              "\n",
              "[11 rows x 5 columns]"
            ]
          },
          "metadata": {
            "tags": []
          },
          "execution_count": 4
        }
      ]
    },
    {
      "cell_type": "code",
      "metadata": {
        "id": "aRPkA-U0IKI9",
        "colab_type": "code",
        "colab": {}
      },
      "source": [
        "ADATA.to_csv('AIR_Quality.csv')"
      ],
      "execution_count": 0,
      "outputs": []
    },
    {
      "cell_type": "code",
      "metadata": {
        "id": "QuD0BPVXIX80",
        "colab_type": "code",
        "colab": {
          "base_uri": "https://localhost:8080/",
          "height": 46
        },
        "outputId": "8f415843-eb07-4007-9f16-72fe2d3b049f"
      },
      "source": [
        "!ls"
      ],
      "execution_count": 3,
      "outputs": [
        {
          "output_type": "stream",
          "text": [
            "AIR_Quality.csv  sample_data\n"
          ],
          "name": "stdout"
        }
      ]
    },
    {
      "cell_type": "markdown",
      "metadata": {
        "id": "Ol7rx07GMXos",
        "colab_type": "text"
      },
      "source": [
        "**JAKARTA_COORDINATE = (-6.21462, 106.84513)**"
      ]
    },
    {
      "cell_type": "code",
      "metadata": {
        "id": "1uW56GsUPoZK",
        "colab_type": "code",
        "colab": {}
      },
      "source": [
        "from folium import plugins"
      ],
      "execution_count": 0,
      "outputs": []
    },
    {
      "cell_type": "code",
      "metadata": {
        "id": "yWjD76SpMez6",
        "colab_type": "code",
        "colab": {}
      },
      "source": [
        "#map5 = folium.Map(location=(-6.21462,106.84513),zoom_start=12,tiles = 'Mapbox bright') \n",
        "\n",
        "JAKARTA_COORDINATE = (-6.21462, 106.84513)\n",
        "\n",
        "map = folium.Map(location=JAKARTA_COORDINATE, zoom_start=12.5)"
      ],
      "execution_count": 0,
      "outputs": []
    },
    {
      "cell_type": "code",
      "metadata": {
        "id": "EJLmz7sENJrl",
        "colab_type": "code",
        "colab": {}
      },
      "source": [
        "def color(aqi): \n",
        "    if aqi in range(0,50): \n",
        "        col = 'green'\n",
        "    elif aqi in range(51,100): \n",
        "        col = 'blue'\n",
        "    elif aqi in range(101,150): \n",
        "        col = 'yellow'\n",
        "    elif aqi in range(151,200): \n",
        "        col = 'orange'\n",
        "    elif aqi in range(201,300): \n",
        "        col = 'red'    \n",
        "    else: \n",
        "        col='purple'\n",
        "    return col "
      ],
      "execution_count": 0,
      "outputs": []
    },
    {
      "cell_type": "code",
      "metadata": {
        "id": "7kLMxWKyOeJ_",
        "colab_type": "code",
        "colab": {}
      },
      "source": [
        "for lat,lan,name,aqi in zip(ADATA['Latitude'],ADATA['Longitude'],ADATA['Name'],ADATA['AQI']): \n",
        "    folium.Marker(location=[lat,lan],popup = name, \n",
        "                  icon= folium.Icon(color=color(aqi), \n",
        "                  icon_color='yellow',icon = 'cloud')).add_to(map)"
      ],
      "execution_count": 0,
      "outputs": []
    },
    {
      "cell_type": "code",
      "metadata": {
        "id": "nXExBEYTPE3y",
        "colab_type": "code",
        "colab": {
          "base_uri": "https://localhost:8080/",
          "height": 799
        },
        "outputId": "de2268fc-31ab-4ade-c7a6-b9103447489f"
      },
      "source": [
        "map"
      ],
      "execution_count": 21,
      "outputs": [
        {
          "output_type": "execute_result",
          "data": {
            "text/html": [
              "<div style=\"width:100%;\"><div style=\"position:relative;width:100%;height:0;padding-bottom:60%;\"><iframe src=\"data:text/html;charset=utf-8;base64,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\" style=\"position:absolute;width:100%;height:100%;left:0;top:0;border:none !important;\" allowfullscreen webkitallowfullscreen mozallowfullscreen></iframe></div></div>"
            ],
            "text/plain": [
              "<folium.folium.Map at 0x7faae6915390>"
            ]
          },
          "metadata": {
            "tags": []
          },
          "execution_count": 21
        }
      ]
    }
  ]
}